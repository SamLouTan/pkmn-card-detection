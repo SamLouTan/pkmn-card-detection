{
 "cells": [
  {
   "cell_type": "markdown",
   "metadata": {},
   "source": [
    "# Projet IA\n",
    "\n",
    "Sujet : Détecter n'importe quelle carte du jeu \"Magic The Gathering\" à partir d'une image.\n",
    "\n",
    "## Démarche\n",
    "\n",
    "Notre première intuition a été de créer un CNN pour classifier les cartes, mais étant donné qu'il existe près de 50 000 cartes différentes, nous avons décidé de nous orienter vers une autre approche.\n",
    "\n",
    "Nous avons donc choisi d'utiliser de la détection de texte, puis de faire une recherche parmis les cartes existantes pour trouver la carte correspondante. Cette solution se découpe en plusieurs étapes :\n",
    "\n",
    "1. Transformation de la perspective de l'image pour obtenir une image de la carte de face\n",
    "2. Détection du texte\n",
    "3. Recherche de la carte correspondante\n",
    "\n",
    "## Transformation de la perspective\n",
    "\n",
    "Pour transformer la perspective de l'image, nous avons utilisé la méthode `warpPerspective` de la librairie OpenCV. Cette méthode prend en paramètre l'image d'origine, les coordonnées des 4 coins de la carte et la taille de l'image de sortie. Les coordonnées des 4 coins de la carte sont obtenues grâce à méthode `findContours` de la librairie OpenCV. Voici un apperçu de la transformation de la perspective :\n",
    "\n",
    "![Avant la transformation](https://i.imgur.com/DPeg0D9.png)\n",
    "![Après la transformation](https://i.imgur.com/SDQivDl.png)\n",
    "\n",
    "## Détection du texte\n",
    "\n",
    "Pour la détection du texte, nous avons utilisé la librairie Tesseract. Cette librairie permet de détecter du texte dans une image et de le retranscrire. Nous avons utilisé la méthode `image_to_string` de la librairie Tesseract pour obtenir le texte de la carte. Voici un apperçu de la détection du texte pour la carte précédente :\n",
    "\n",
    "```\n",
    "Ombre de hyéne\n",
    "\n",
    "Enchantement : aura\n",
    "\n",
    "Enchanter : créature\n",
    "La créature enchantée gagne +1/+1 et\n",
    "a |’initiative.\n",
    "\n",
    "Armure totémique (Si la créature\n",
    "enchantée devait étre détruite, a la place,\n",
    "retirez-lut toutes ses blessures et détruisez\n",
    "cette aura.)\n",
    "```\n",
    "\n",
    "Comme on peut le constater, la détection n'est pas parfaite, c'est pourquoi nous allons utiliser une méthode de recherche par similarité pour trouver la carte correspondante.\n",
    "\n",
    "## Recherche de la carte correspondante\n",
    "\n",
    "Pour la recherche de la carte correspondante, nous avions besoin d'un dataset des noms et description de toutes les cartes. Nous l'avons trouvé sur Scryfall et nous l'avons modifié pour obtenir un fichier JSON avec les champs suivants pour toutes les cartes existantes :\n",
    "\n",
    "- `id` : l'id de la carte\n",
    "- `name` : le nom de la carte\n",
    "- `text` : la description de la carte\n",
    "- `uri` : l'url de la carte sur Scryfall\n",
    "\n",
    "Ensuite, nous avons créé un TF-IDF (avec la library sklearn) sur les textes des cartes. Puis nous avons utilisé la méthode `cosine_similarity` de la librairie scikit-learn pour trouver les cartes les plus similaires."
   ]
  }
 ],
 "metadata": {
  "language_info": {
   "name": "python"
  }
 },
 "nbformat": 4,
 "nbformat_minor": 2
}
