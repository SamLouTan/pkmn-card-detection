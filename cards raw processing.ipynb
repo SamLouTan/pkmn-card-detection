{
 "cells": [
  {
   "cell_type": "markdown",
   "metadata": {},
   "source": [
    "# Creation of the cards.json file from 'cards raw.json'"
   ]
  },
  {
   "cell_type": "code",
   "execution_count": 20,
   "metadata": {},
   "outputs": [
    {
     "name": "stdout",
     "output_type": "stream",
     "text": [
      "dict_keys(['id', 'set', 'series', 'publisher', 'generation', 'release_date', 'artist', 'name', 'set_num', 'types', 'supertype', 'subtypes', 'level', 'hp', 'evolvesFrom', 'evolvesTo', 'abilities', 'attacks', 'weaknesses', 'retreatCost', 'convertedRetreatCost', 'rarity', 'flavorText', 'nationalPokedexNumbers', 'legalities', 'resistances', 'rules', 'regulationMark', 'ancientTrait'])\n",
      "{'id': 'base1-1', 'name': 'Alakazam', 'abilities': '[{\\'name\\': \\'Damage Swap\\', \\'text\\': \"As often as you like during your turn (before your attack), you may move 1 damage counter from 1 of your Pokémon to another as long as you don\\'t Knock Out that Pokémon. This power can\\'t be used if Alakazam is Asleep, Confused, or Paralyzed.\", \\'type\\': \\'Pokémon Power\\'}]', 'attacks': \"[{'name': 'Confuse Ray', 'cost': ['Psychic', 'Psychic', 'Psychic'], 'convertedEnergyCost': 3, 'damage': '30', 'text': 'Flip a coin. If heads, the Defending Pokémon is now Confused.'}]\", 'flavorText': 'Its brain can outperform a supercomputer. Its intelligence quotient is said to be 5000.'}\n"
     ]
    }
   ],
   "source": [
    "import json\n",
    "\n",
    "# Open the pokemon tcg .json file with UTF-8 encoding\n",
    "with open('./data/cards raw.json', 'r', encoding='utf-8') as json_file:\n",
    "    data = json.load(json_file)\n",
    "\n",
    "# Print all the keys of the first element\n",
    "if data:\n",
    "    print(data[0].keys())\n",
    "\n",
    "filtered_data = []\n",
    "\n",
    "# Iterate through the elements and include only 'pkmn_id', 'printed_name', 'printed_abilities' and 'printed_attacks' and 'printed_flavorText' properties \n",
    "for item in data:\n",
    "\n",
    "    try:\n",
    "        id = item[\"pkmn_id\"]\n",
    "    except KeyError:\n",
    "        id = \"\"\n",
    "\n",
    "    try:\n",
    "        name = item[\"printed_name\"]\n",
    "    except KeyError:\n",
    "        name = item[\"name\"]\n",
    "\n",
    "    try:\n",
    "        abilities = item[\"printed_abilities\"]\n",
    "    except KeyError:\n",
    "        try:\n",
    "            abilities = item[\"abilities\"]\n",
    "        except KeyError:\n",
    "            abilities = \"\"\n",
    "\n",
    "    try:\n",
    "        attacks = item[\"printed_attacks\"]\n",
    "    except KeyError:\n",
    "        attacks = item[\"attacks\"]\n",
    "\n",
    "    try:\n",
    "        flavorText = item[\"printed_flavorText\"]\n",
    "    except KeyError:\n",
    "        flavorText = item[\"flavorText\"]\n",
    "\n",
    "\n",
    "    filtered_data.append({\n",
    "        \"id\": id,\n",
    "        \"name\": name,\n",
    "        \"abilities\": abilities,\n",
    "        \"attacks\": attacks,\n",
    "        \"flavorText\": flavorText,\n",
    "    })        \n",
    "\n",
    "# Save the new JSON file with only 'id', 'name', and 'oracle_text'\n",
    "with open('./data/cards.json', 'w', encoding='utf-8') as outfile:\n",
    "    json.dump(filtered_data, outfile)\n",
    "\n",
    "# Print the first element of the new JSON file\n",
    "if filtered_data:\n",
    "    print(filtered_data[0])\n",
    "else:\n",
    "    print(\"No valid data found.\")\n"
   ]
  }
 ],
 "metadata": {
  "kernelspec": {
   "display_name": "base",
   "language": "python",
   "name": "python3"
  },
  "language_info": {
   "codemirror_mode": {
    "name": "ipython",
    "version": 3
   },
   "file_extension": ".py",
   "mimetype": "text/x-python",
   "name": "python",
   "nbconvert_exporter": "python",
   "pygments_lexer": "ipython3",
   "version": "3.11.7"
  }
 },
 "nbformat": 4,
 "nbformat_minor": 2
}
